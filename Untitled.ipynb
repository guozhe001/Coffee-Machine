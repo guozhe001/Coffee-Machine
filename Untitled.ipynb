{
 "cells": [
  {
   "cell_type": "code",
   "execution_count": 34,
   "metadata": {},
   "outputs": [
    {
     "name": "stdout",
     "output_type": "stream",
     "text": [
      "\"hello\".replace(\"l\",\"2\"): he22o\n",
      "str.upper(\"hello\"): HELLO HELLO\n",
      "str.lower(\"Hello\"): hello hello\n",
      "str.title(\"hello\"): Hello Hello\n",
      "str.swapcase(\"Hello\"): hELLO hELLO\n",
      "str.capitalize(\"helloWord\"): Helloword Helloword\n"
     ]
    }
   ],
   "source": [
    "# str静态方法试用\n",
    "# 替换\n",
    "print(\"\\\"hello\\\".replace(\\\"l\\\",\\\"2\\\"):\", \"hello\".replace(\"l\",\"2\"))\n",
    "# 大写\n",
    "print(\"str.upper(\\\"hello\\\"):\", str.upper(\"hello\"), \"hello\".upper())\n",
    "# 小写\n",
    "print(\"str.lower(\\\"Hello\\\"):\",str.lower(\"Hello\"), \"Hello\".lower())\n",
    "# 首字母大写\n",
    "print(\"str.title(\\\"hello\\\"):\",str.title(\"hello\"), \"hello\".title())\n",
    "# 大小写更换\n",
    "print(\"str.swapcase(\\\"Hello\\\"):\", str.swapcase(\"Hello\"), \"Hello\".swapcase())\n",
    "# 首字母大写，其余的转小写\n",
    "print(\"str.capitalize(\\\"helloWord\\\"):\", str.capitalize(\"helloWord\"), \"helloWord\".capitalize())"
   ]
  },
  {
   "cell_type": "code",
   "execution_count": 51,
   "metadata": {},
   "outputs": [
    {
     "name": "stdout",
     "output_type": "stream",
     "text": [
      "original【 hello world 】\n",
      "strip【hello world】\n",
      "rstrip【 hello world】\n",
      "rstrip(\"ld \")【 hello wor】\n",
      "lstrip【hello world 】\n",
      "lstrip(\" h\")【ello world】\n"
     ]
    }
   ],
   "source": [
    "def print_str(key, a_str):\n",
    "    print(\"{}【{}】\".format(key, a_str))\n",
    "\n",
    "# strip\n",
    "a_str = \" hello world \"\n",
    "print_str(\"original\", a_str)\n",
    "# 前后去掉空格\n",
    "print_str(\"strip\", a_str.strip())\n",
    "\n",
    "# 去掉右边的空格\n",
    "print_str(\"rstrip\", a_str.rstrip())\n",
    "\n",
    "print_str(\"rstrip(\\\"ld \\\")\", a_str.rstrip(\"ld \"))\n",
    "\n",
    "# 去掉左边的空格\n",
    "print_str(\"lstrip\", a_str.lstrip())\n",
    "\n",
    "# 去掉左边的指定的字符串\n",
    "print_str(\"lstrip(\\\" h\\\")\", a_str.strip(\" h\"))\n"
   ]
  },
  {
   "cell_type": "code",
   "execution_count": 55,
   "metadata": {},
   "outputs": [
    {
     "name": "stdout",
     "output_type": "stream",
     "text": [
      "original【Mpppiiisssppiissip】\n",
      "rstrip(\"spi\"):【M】\n",
      "lstrip(\"Mspi\"):【】\n"
     ]
    }
   ],
   "source": [
    "a_str = \"Mpppiiisssppiissip\"\n",
    "print_str(\"original\", a_str)\n",
    "print_str(\"rstrip(\\\"spi\\\"):\", a_str.rstrip(\"spi\"))\n",
    "print_str(\"lstrip(\\\"Mspi\\\"):\", a_str.lstrip(\"Mspi\"))"
   ]
  },
  {
   "cell_type": "code",
   "execution_count": 58,
   "metadata": {},
   "outputs": [
    {
     "name": "stdout",
     "output_type": "stream",
     "text": [
      "london is the cxpitxl of great britain.\n"
     ]
    }
   ],
   "source": [
    "sentence = \"London is the capital of Great Britain.\"\n",
    "sentence = sentence.lower()\n",
    "sentence.upper()\n",
    "sentence = sentence.replace(\"a\", \"x\", 2)\n",
    "sentence.capitalize()\n",
    "print(sentence)"
   ]
  },
  {
   "cell_type": "code",
   "execution_count": null,
   "metadata": {},
   "outputs": [],
   "source": []
  }
 ],
 "metadata": {
  "kernelspec": {
   "display_name": "Python 3",
   "language": "python",
   "name": "python3"
  },
  "language_info": {
   "codemirror_mode": {
    "name": "ipython",
    "version": 3
   },
   "file_extension": ".py",
   "mimetype": "text/x-python",
   "name": "python",
   "nbconvert_exporter": "python",
   "pygments_lexer": "ipython3",
   "version": "3.7.4"
  }
 },
 "nbformat": 4,
 "nbformat_minor": 2
}
